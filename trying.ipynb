{
 "cells": [
  {
   "cell_type": "code",
   "execution_count": 32,
   "metadata": {},
   "outputs": [],
   "source": [
    "import pandas as pd\n",
    "import sqlite3\n",
    "from modules.data_utils import get_tariffs\n",
    "\n",
    "def calcular_fatura_livre(quantidade, preco, impostos_bandeira, fatura_uso, fatura_cativa):\n",
    "\n",
    "    result_dict = {\n",
    "        \"fatura_livre\": [],\n",
    "        \"anos\": preco[\"anos\"]\n",
    "    }\n",
    "\n",
    "    icms = 1/(1- impostos_bandeira[\"icms\"])\n",
    "    icms_hr = 1/(1- impostos_bandeira[\"icms_hr\"])\n",
    "\n",
    "    match preco[\"produto\"]:\n",
    "\n",
    "        case \"Desconto Garantido\": \n",
    "                result_dict[\"fatura_livre\"]  = [(1- preco[\"desconto\"])*fatura_cativa - fatura_uso for i,_ in enumerate(preco[\"anos\"])] \n",
    "        case \"Preço Fixo\":\n",
    "                result_dict[\"fatura_livre\"] = [preco[\"preco\"][i]*(quantidade[\"Energia HP\"] * icms + quantidade[\"Energia HFP\"] * icms + quantidade[\"Energia HR\"] * icms_hr) for i,_ in enumerate(preco[\"anos\"])]\n",
    "        case \"PMT\":\n",
    "                result_dict[\"fatura_livre\"] = [preco[\"preco\"][i]*(quantidade[\"Energia HP\"] * icms + quantidade[\"Energia HFP\"] * icms + quantidade[\"Energia HR\"] * icms_hr) for i,_ in enumerate(preco[\"anos\"])]\n",
    "    return result_dict\n"
   ]
  },
  {
   "cell_type": "code",
   "execution_count": 13,
   "metadata": {},
   "outputs": [],
   "source": [
    "quantidade = {\n",
    "    \"Demanda HFP\": 100,  # Quantity for Demanda HFP in kW\n",
    "    \"Demanda HFP sICMS\": 0,  # Quantity for Demanda HFP sICMS in kW\n",
    "    \"Demanda HP\": 100,    # Quantity for Demanda HP in kW\n",
    "    \"Demanda HP sICMS\": 0,  # Quantity for Demanda HP sICMS in kW\n",
    "    \"Demanda HR\": 0,    # Quantity for Demanda HR in kW\n",
    "    \"Demanda HR sICMS\": 0,  # Quantity for Demanda HR sICMS in kW\n",
    "    \"Energia HFP\": 10000,  # Quantity for Energia HFP in MWh\n",
    "    \"Energia HP\": 1000,   # Quantity for Energia HP in MWh\n",
    "    \"Energia HR\": 0,   # Quantity for Energia HR in MWh\n",
    "    \"Energia Compensada HFP\": 00,  # Quantity for Energia Compensada HFP in MWh\n",
    "    \"Energia Compensada HP\": 00  # Quantity for Energia Compensada HP in MWh\n",
    "}\n",
    "\n",
    "impostos_bandeira = {\n",
    "    \"icms\": 0.18,\n",
    "    \"paseb\": 0.0057,\n",
    "    \"cofins\": 0.0262,\n",
    "    \"bandeira\": 'amarela',\n",
    "    \"icms_hr\": 0.07,\n",
    "    \"desc_irr\": 0.8\n",
    "}\n",
    "\n",
    "tariffs = get_tariffs(\"CEMIG-D\", \"A4\", \"Verde\", \"RESOLUÇÃO HOMOLOGATÓRIA Nº 3.328, DE 21 DE MAIO DE 2024\")"
   ]
  },
  {
   "cell_type": "code",
   "execution_count": 14,
   "metadata": {},
   "outputs": [
    {
     "data": {
      "text/plain": [
       "{'Demanda HFP': 2800.305350434973,\n",
       " 'Demanda HFP sICMS': 0.0,\n",
       " 'Demanda HP': 0.0,\n",
       " 'Demanda HP sICMS': 0.0,\n",
       " 'Energia HFP': 1548.796863859559,\n",
       " 'Energia HP': 2180.6102473792016,\n",
       " 'Energia HR': 0.0,\n",
       " 'Energia Compensada HFP': None,\n",
       " 'Energia Compensada HP': None,\n",
       " 'Desconto Irrigante Noturno': 0.0,\n",
       " 'Desconto Demanda HFP': 1111.5,\n",
       " 'Desconto Demanda HP': 0.0,\n",
       " 'Desconto TUSD HP': 804.055,\n",
       " 'Fatura de Uso': 4614.157461673733}"
      ]
     },
     "execution_count": 14,
     "metadata": {},
     "output_type": "execute_result"
    }
   ],
   "source": [
    "calcular_fatura_uso(quantidade, tariffs, impostos_bandeira)\n"
   ]
  },
  {
   "cell_type": "code",
   "execution_count": 69,
   "metadata": {},
   "outputs": [
    {
     "data": {
      "text/plain": [
       "1694.7428"
      ]
     },
     "execution_count": 69,
     "metadata": {},
     "output_type": "execute_result"
    }
   ],
   "source": [
    "quantidade[\"Energia HR\"] * tariffs[\"Consumo_HFP_TUSD\"] * impostos_bandeira[\"desc_irr\"]"
   ]
  },
  {
   "cell_type": "code",
   "execution_count": 49,
   "metadata": {},
   "outputs": [
    {
     "data": {
      "text/plain": [
       "4137.513592697976"
      ]
     },
     "execution_count": 49,
     "metadata": {},
     "output_type": "execute_result"
    }
   ],
   "source": [
    "icms = (1/(1-0.12))\n",
    "paseb_cofin = (1/(1-0.0057-0.0262))\n",
    "quantidade[\"Energia HFP\"] * (tariffs[\"Consumo_HFP_TUSD\"]+0.02213) * icms * paseb_cofin"
   ]
  },
  {
   "cell_type": "code",
   "execution_count": 15,
   "metadata": {},
   "outputs": [
    {
     "data": {
      "text/plain": [
       "{'Demanda_HFP': 22.23,\n",
       " 'Demanda_HP': 0,\n",
       " 'Consumo_HFP_TE': 0.29769,\n",
       " 'Consumo_HFP_TUSD': 0.12295,\n",
       " 'Consumo_HFP': 0.42064,\n",
       " 'Consumo_HP_TE': 0.46841000000000005,\n",
       " 'Consumo_HP_TUSD': 1.73106,\n",
       " 'Consumo_HP': 2.1994700000000003}"
      ]
     },
     "execution_count": 15,
     "metadata": {},
     "output_type": "execute_result"
    }
   ],
   "source": [
    "tariffs"
   ]
  },
  {
   "cell_type": "code",
   "execution_count": null,
   "metadata": {},
   "outputs": [],
   "source": [
    "conn = sqlite3.connect(\"DataBase.db\")\n",
    "query = f\"SELECT amarela FROM tariff_flags\"\n",
    "try:\n",
    "    bandeira = pd.read_sql_query(query, conn).iloc[0,0]\n",
    "finally:\n",
    "    conn.close()"
   ]
  },
  {
   "cell_type": "code",
   "execution_count": 52,
   "metadata": {},
   "outputs": [
    {
     "data": {
      "text/plain": [
       "0.01885"
      ]
     },
     "execution_count": 52,
     "metadata": {},
     "output_type": "execute_result"
    }
   ],
   "source": [
    "bandeira.iloc[0,0]"
   ]
  },
  {
   "cell_type": "code",
   "execution_count": 3,
   "metadata": {},
   "outputs": [],
   "source": [
    "from dateutil.relativedelta import relativedelta\n",
    "import pandas as pd\n",
    "# Calculate the year range for yearly prices using relativedelta\n",
    "inicio_operacional = pd.Timestamp(\"2024-01-01\")\n",
    "duracao_meses = 60\n",
    "end_date = inicio_operacional + relativedelta(months=+duracao_meses)\n",
    "years = list(range(inicio_operacional.year, end_date.year + 1))\n",
    "\n",
    "preco = {\n",
    "        \"anos\": years\n",
    "        }"
   ]
  },
  {
   "cell_type": "code",
   "execution_count": 4,
   "metadata": {},
   "outputs": [
    {
     "data": {
      "text/plain": [
       "[2024, 2025, 2026, 2027, 2028, 2029]"
      ]
     },
     "execution_count": 4,
     "metadata": {},
     "output_type": "execute_result"
    }
   ],
   "source": [
    "preco[\"anos\"]"
   ]
  },
  {
   "cell_type": "code",
   "execution_count": 9,
   "metadata": {},
   "outputs": [],
   "source": [
    "def calcular_fatura_livre(quantidade, preco, impostos_bandeira, fatura_uso, fatura_cativa):\n",
    "\n",
    "    result_dict = {\n",
    "        \"fatura_livre\": [],\n",
    "        \"anos\": preco[\"anos\"]\n",
    "    }\n",
    "\n",
    "    return result_dict\n"
   ]
  },
  {
   "cell_type": "code",
   "execution_count": 1,
   "metadata": {},
   "outputs": [
    {
     "name": "stderr",
     "output_type": "stream",
     "text": [
      "2025-03-19 15:17:38.452 WARNING streamlit.runtime.caching.cache_data_api: No runtime found, using MemoryCacheStorageManager\n",
      "2025-03-19 15:17:38.460 WARNING streamlit.runtime.caching.cache_data_api: No runtime found, using MemoryCacheStorageManager\n",
      "2025-03-19 15:17:38.466 WARNING streamlit.runtime.caching.cache_data_api: No runtime found, using MemoryCacheStorageManager\n",
      "2025-03-19 15:17:38.468 WARNING streamlit.runtime.caching.cache_data_api: No runtime found, using MemoryCacheStorageManager\n"
     ]
    },
    {
     "name": "stdout",
     "output_type": "stream",
     "text": [
      "update runned\n"
     ]
    },
    {
     "name": "stderr",
     "output_type": "stream",
     "text": [
      "2025-03-19 15:17:39.817 WARNING streamlit.runtime.caching.cache_data_api: No runtime found, using MemoryCacheStorageManager\n",
      "2025-03-19 15:17:39.822 WARNING streamlit.runtime.scriptrunner_utils.script_run_context: Thread 'MainThread': missing ScriptRunContext! This warning can be ignored when running in bare mode.\n",
      "2025-03-19 15:17:41.251 \n",
      "  \u001b[33m\u001b[1mWarning:\u001b[0m to view this Streamlit app on a browser, run it with the following\n",
      "  command:\n",
      "\n",
      "    streamlit run c:\\Users\\Rodri\\AppData\\Local\\Programs\\Python\\Python312\\Lib\\site-packages\\ipykernel_launcher.py [ARGUMENTS]\n",
      "2025-03-19 15:17:41.253 Thread 'MainThread': missing ScriptRunContext! This warning can be ignored when running in bare mode.\n",
      "2025-03-19 15:17:41.254 Thread 'MainThread': missing ScriptRunContext! This warning can be ignored when running in bare mode.\n",
      "2025-03-19 15:17:41.264 Thread 'MainThread': missing ScriptRunContext! This warning can be ignored when running in bare mode.\n",
      "2025-03-19 15:17:41.265 Thread 'MainThread': missing ScriptRunContext! This warning can be ignored when running in bare mode.\n",
      "2025-03-19 15:17:41.267 No runtime found, using MemoryCacheStorageManager\n",
      "2025-03-19 15:17:41.273 Thread 'MainThread': missing ScriptRunContext! This warning can be ignored when running in bare mode.\n",
      "2025-03-19 15:17:41.277 Thread 'MainThread': missing ScriptRunContext! This warning can be ignored when running in bare mode.\n",
      "2025-03-19 15:17:41.279 Thread 'MainThread': missing ScriptRunContext! This warning can be ignored when running in bare mode.\n",
      "2025-03-19 15:17:41.287 Thread 'MainThread': missing ScriptRunContext! This warning can be ignored when running in bare mode.\n",
      "2025-03-19 15:17:41.289 Thread 'MainThread': missing ScriptRunContext! This warning can be ignored when running in bare mode.\n",
      "2025-03-19 15:17:41.290 No runtime found, using MemoryCacheStorageManager\n",
      "2025-03-19 15:17:41.297 Thread 'MainThread': missing ScriptRunContext! This warning can be ignored when running in bare mode.\n",
      "2025-03-19 15:17:41.299 Thread 'MainThread': missing ScriptRunContext! This warning can be ignored when running in bare mode.\n",
      "2025-03-19 15:17:41.301 Thread 'MainThread': missing ScriptRunContext! This warning can be ignored when running in bare mode.\n",
      "2025-03-19 15:17:41.304 Thread 'MainThread': missing ScriptRunContext! This warning can be ignored when running in bare mode.\n",
      "2025-03-19 15:17:41.305 Thread 'MainThread': missing ScriptRunContext! This warning can be ignored when running in bare mode.\n"
     ]
    }
   ],
   "source": [
    "from modules.calculations import *\n",
    "from modules.data_utils import get_tariffs\n",
    "\n",
    "quantidade = {\n",
    "    \"Demanda HFP\": 100,  # Quantity for Demanda HFP in kW\n",
    "    \"Demanda HFP sICMS\": 0,  # Quantity for Demanda HFP sICMS in kW\n",
    "    \"Demanda HP\": 100,    # Quantity for Demanda HP in kW\n",
    "    \"Demanda HP sICMS\": 0,  # Quantity for Demanda HP sICMS in kW\n",
    "    \"Demanda HR\": 0,    # Quantity for Demanda HR in kW\n",
    "    \"Demanda HR sICMS\": 0,  # Quantity for Demanda HR sICMS in kW\n",
    "    \"Energia HFP\": 10000,  # Quantity for Energia HFP in MWh\n",
    "    \"Energia HP\": 1000,   # Quantity for Energia HP in MWh\n",
    "    \"Energia HR\": 0,   # Quantity for Energia HR in MWh\n",
    "    \"Energia Compensada HFP\": 00,  # Quantity for Energia Compensada HFP in MWh\n",
    "    \"Energia Compensada HP\": 00  # Quantity for Energia Compensada HP in MWh\n",
    "}\n",
    "\n",
    "impostos_bandeira = {\n",
    "    \"icms\": 0.18,\n",
    "\n",
    "\n",
    "    \"paseb\": 0.0057,\n",
    "    \"cofins\": 0.0262,\n",
    "    \"bandeira\": 'verde',\n",
    "    \"icms_hr\": 0.07,\n",
    "    \"desc_irr\": 0.8\n",
    "}\n",
    "\n",
    "tariffs = get_tariffs(\"CEMIG-D\", \"A4\", \"Verde\", \"RESOLUÇÃO HOMOLOGATÓRIA Nº 3.328, DE 21 DE MAIO DE 2024\")\n",
    "\n",
    "preco = {\n",
    "    \"produto\": \"PMT\",\n",
    "    \"anos\": [2024, 2025, 2026, 2027, 2028],\n",
    "    \"preco\": [245,245,245,245,245],\n",
    "    \"desconto\": 0.25,\n",
    "    \"inicio_operacional\": \"2026-01-01\",   \n",
    "    \"duracao_meses\": 60\n",
    "}\n",
    "\n",
    "fatura_cativa = calcular_fatura_cativa(quantidade, tariffs, impostos_bandeira)\n",
    "fatura_uso = calcular_fatura_uso(quantidade, tariffs, impostos_bandeira)\n",
    "fatura_livre = calcular_fatura_livre(quantidade, preco, impostos_bandeira, fatura_uso[\"Fatura de Uso\"], fatura_cativa[\"Fatura Cativa\"])"
   ]
  },
  {
   "cell_type": "code",
   "execution_count": 2,
   "metadata": {},
   "outputs": [
    {
     "name": "stdout",
     "output_type": "stream",
     "text": [
      "\n",
      "      Fatura Cativa: 10869.757458033211 \n",
      "      Fatura de Uso: 4614.157461673733 \n",
      "      Fatura Livre 3286.5853658536585\n",
      "      Precos: 245\n",
      "\n"
     ]
    }
   ],
   "source": [
    "print(f\"\"\"\n",
    "      Fatura Cativa: {fatura_cativa[\"Fatura Cativa\"]} \n",
    "      Fatura de Uso: {fatura_uso[\"Fatura de Uso\"]} \n",
    "      Fatura Livre {fatura_livre[\"fatura_livre\"][0]}\n",
    "      Precos: {preco[\"preco\"][0]}\n",
    "\"\"\")"
   ]
  },
  {
   "cell_type": "code",
   "execution_count": null,
   "metadata": {},
   "outputs": [
    {
     "data": {
      "text/plain": [
       "{'fatura_livre': [], 'anos': [2024, 2025, 2026, 2027, 2028, 2029]}"
      ]
     },
     "execution_count": 11,
     "metadata": {},
     "output_type": "execute_result"
    }
   ],
   "source": [
    "result\n",
    "\n",
    "\"\"\"\n",
    "result_dict = {\n",
    "        \"anos\": preco[\"anos\"],\n",
    "        \"economia_anual\": []\n",
    "    }\n",
    "\"\"\"\n",
    "#yearly_economy_plot(years, values, percentages, output_folder = 'images/', output_filename = 'yearly_economy_plot.svg')\n",
    "# Example usage\n",
    "\"\"\"years = ['2030', '2029', '2028', '2027', '2026']\n",
    "values = [35849.07, 42256.63, 36916.99, 31577.36, 4879]\n",
    " percentages = [23.8, 28.1, 24.5, 21.0, 3.2]\"\"\""
   ]
  },
  {
   "cell_type": "code",
   "execution_count": null,
   "metadata": {},
   "outputs": [],
   "source": [
    "from modules.plot_generator import price_curve_plot, yearly_economy_plot, flags_plot, historico_irrigante_plot, flags_pie_plot\n",
    "def gerar_graficos(preco, fatura_uso, fatura_cativa, fatura_livre):\n",
    "\n",
    "    price_curve_plot(preco[\"anos\"], preco[\"preco\"])\n",
    "\n",
    "    months = [min(12, max(0, preco[\"duracao_meses\"] - 12*i)) for i in range(len(preco[\"anos\"]))]\n",
    "    economy = [(fatura_cativa - fatura_uso - fatura_livre[i])*months[i] for i in range(len(months))]\n",
    "    percentual_economy = [(fatura_cativa - fatura_uso - fatura_livre[i])/fatura_cativa for i in range(len(fatura_livre))]\n",
    "    yearly_economy_plot(preco[\"anos\"], economy, percentual_economy )\n",
    "    print(percentual_economy)\n",
    "    \n",
    "    return None\n"
   ]
  },
  {
   "cell_type": "code",
   "execution_count": 4,
   "metadata": {},
   "outputs": [],
   "source": [
    "gerar_graficos(preco, fatura_uso[\"Fatura de Uso\"], fatura_cativa[\"Fatura Cativa\"], fatura_livre[\"fatura_livre\"])"
   ]
  },
  {
   "cell_type": "code",
   "execution_count": 5,
   "metadata": {},
   "outputs": [
    {
     "data": {
      "text/plain": [
       "5"
      ]
     },
     "execution_count": 5,
     "metadata": {},
     "output_type": "execute_result"
    }
   ],
   "source": [
    "len(preco[\"anos\"])"
   ]
  },
  {
   "cell_type": "code",
   "execution_count": 6,
   "metadata": {},
   "outputs": [
    {
     "data": {
      "text/plain": [
       "0"
      ]
     },
     "execution_count": 6,
     "metadata": {},
     "output_type": "execute_result"
    }
   ],
   "source": [
    "len(fatura_livre[\"Fatura Livre\"])"
   ]
  },
  {
   "cell_type": "code",
   "execution_count": null,
   "metadata": {},
   "outputs": [],
   "source": []
  }
 ],
 "metadata": {
  "kernelspec": {
   "display_name": "Python 3",
   "language": "python",
   "name": "python3"
  },
  "language_info": {
   "codemirror_mode": {
    "name": "ipython",
    "version": 3
   },
   "file_extension": ".py",
   "mimetype": "text/x-python",
   "name": "python",
   "nbconvert_exporter": "python",
   "pygments_lexer": "ipython3",
   "version": "3.12.5"
  }
 },
 "nbformat": 4,
 "nbformat_minor": 2
}
