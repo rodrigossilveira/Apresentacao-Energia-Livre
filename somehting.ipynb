{
 "cells": [
  {
   "cell_type": "code",
   "execution_count": 17,
   "metadata": {},
   "outputs": [],
   "source": [
    "from modules.calculations import calcular_fatura_cativa, calcular_fatura_uso,calcular_fatura_livre\n",
    "from modules.data_utils import get_tariffs\n",
    "from modules.plot_generator import energy_cost_plot"
   ]
  },
  {
   "cell_type": "code",
   "execution_count": 4,
   "metadata": {},
   "outputs": [
    {
     "name": "stderr",
     "output_type": "stream",
     "text": [
      "2025-04-15 10:37:19.749 Thread 'MainThread': missing ScriptRunContext! This warning can be ignored when running in bare mode.\n",
      "2025-04-15 10:37:19.751 Thread 'MainThread': missing ScriptRunContext! This warning can be ignored when running in bare mode.\n",
      "2025-04-15 10:37:19.754 Thread 'MainThread': missing ScriptRunContext! This warning can be ignored when running in bare mode.\n",
      "2025-04-15 10:37:19.761 Thread 'MainThread': missing ScriptRunContext! This warning can be ignored when running in bare mode.\n",
      "2025-04-15 10:37:19.763 Thread 'MainThread': missing ScriptRunContext! This warning can be ignored when running in bare mode.\n",
      "2025-04-15 10:37:19.765 No runtime found, using MemoryCacheStorageManager\n",
      "2025-04-15 10:37:19.768 Thread 'MainThread': missing ScriptRunContext! This warning can be ignored when running in bare mode.\n",
      "2025-04-15 10:37:19.769 Thread 'MainThread': missing ScriptRunContext! This warning can be ignored when running in bare mode.\n",
      "2025-04-15 10:37:19.772 Thread 'MainThread': missing ScriptRunContext! This warning can be ignored when running in bare mode.\n",
      "2025-04-15 10:37:19.774 Thread 'MainThread': missing ScriptRunContext! This warning can be ignored when running in bare mode.\n",
      "2025-04-15 10:37:19.775 Thread 'MainThread': missing ScriptRunContext! This warning can be ignored when running in bare mode.\n",
      "2025-04-15 10:37:19.777 No runtime found, using MemoryCacheStorageManager\n",
      "2025-04-15 10:37:19.783 Thread 'MainThread': missing ScriptRunContext! This warning can be ignored when running in bare mode.\n",
      "2025-04-15 10:37:19.785 Thread 'MainThread': missing ScriptRunContext! This warning can be ignored when running in bare mode.\n",
      "2025-04-15 10:37:19.788 Thread 'MainThread': missing ScriptRunContext! This warning can be ignored when running in bare mode.\n"
     ]
    },
    {
     "name": "stdout",
     "output_type": "stream",
     "text": [
      "calcular_fatura_livre - fatura_cativa: {'Demanda HFP': 2843.183649455792, 'Demanda HFP sICMS': 0.0, 'Demanda HP': 0.0, 'Demanda HP sICMS': 0.0, 'Energia HFP': 5379.9224935091515, 'Energia HP': 2813.0891324644763, 'Energia HR': 0.0, 'Energia Compensada HFP': 0.0, 'Energia Compensada HP': 0.0, 'Desconto Irrigante Noturno': 0.0, 'Custo da Bandeira': 0.0, 'Fatura Cativa': 11036.19527542942}\n",
      "calcular_fatura_livre - fatura_uso: {'Demanda HFP': 2843.183649455792, 'Demanda HFP sICMS': 0.0, 'Demanda HP': 0.0, 'Demanda HP sICMS': 0.0, 'Energia HFP': 1572.5120544336014, 'Energia HP': 2213.9997697827002, 'Energia HR': 0.0, 'Energia Compensada HFP': None, 'Energia Compensada HP': None, 'Desconto Irrigante Noturno': 0.0, 'Desconto Demanda HFP': 1111.5, 'Desconto Demanda HP': 0.0, 'Desconto TUSD HP': 804.055, 'Fatura de Uso': 4714.140473672093}\n",
      "calcular_fatura_livre - len(preco['anos']): 6\n",
      "calcular_fatura_livre - len(preco['preco']): 6\n",
      "calcular_fatura_livre - quantidade: {'Demanda HFP': 100, 'Demanda HFP sICMS': 0, 'Demanda HP': 0, 'Demanda HP sICMS': 0, 'Demanda HR': 0, 'Demanda HR sICMS': 0, 'Energia HFP': 10000, 'Energia HP': 1000, 'Energia HR': 0, 'Energia Compensada HFP': 0, 'Energia Compensada HP': 0}\n",
      "calcular_fatura_livre - fatura_livre: [3533.1463414634145, 3533.1463414634145, 3533.1463414634145, 3533.1463414634145, 3533.1463414634145, 3533.1463414634145]\n"
     ]
    },
    {
     "name": "stderr",
     "output_type": "stream",
     "text": [
      "2025-04-15 10:37:19.798 Thread 'MainThread': missing ScriptRunContext! This warning can be ignored when running in bare mode.\n",
      "2025-04-15 10:37:19.800 Thread 'MainThread': missing ScriptRunContext! This warning can be ignored when running in bare mode.\n"
     ]
    }
   ],
   "source": [
    "quantidade = {\n",
    "    \"Demanda HFP\": 100, \n",
    "    \"Demanda HFP sICMS\": 0,  \n",
    "    \"Demanda HP\": 0,    \n",
    "    \"Demanda HP sICMS\": 0,  \n",
    "    \"Demanda HR\": 0,    \n",
    "    \"Demanda HR sICMS\": 0,  \n",
    "    \"Energia HFP\": 10000, \n",
    "    \"Energia HP\": 1000,   \n",
    "    \"Energia HR\": 0,   \n",
    "    \"Energia Compensada HFP\": 0, \n",
    "    \"Energia Compensada HP\": 0 \n",
    "}\n",
    "\n",
    "icms = 18\n",
    "icms_hr = 0\n",
    "desc_irrig = 0.8\n",
    "cofins = 3.82\n",
    "paseb = 0.83\n",
    "bandeira = \"verde\"\n",
    "impostos_bandeira = {\n",
    "    \"icms\": icms/100,\n",
    "    \"paseb\": paseb/100,\n",
    "    \"cofins\": cofins/100,\n",
    "    \"bandeira\": bandeira,\n",
    "    \"icms_hr\": icms_hr,  \n",
    "    \"desc_irr\": desc_irrig\n",
    "}\n",
    "distribuidora = \"CEMIG-D\"\n",
    "subgrupo = \"A4\"\n",
    "modalidade = \"Verde\"\n",
    "resolucao = \"RESOLUÇÃO HOMOLOGATÓRIA Nº 3.328, DE 21 DE MAIO DE 2024\"\n",
    "\n",
    "tarifa = get_tariffs(distribuidora, subgrupo, modalidade, resolucao)\n",
    "\n",
    "produto = \"PMT\"\n",
    "desconto = 0\n",
    "\n",
    "preco = {\n",
    "    \"preco\": [263.38, 263.38, 263.38, 263.38, 263.38, 263.38],\n",
    "    \"produto\": produto,\n",
    "    \"anos\": [2026, 2027, 2028, 2029, 2030, 2031],\n",
    "    \"duracao_meses\": 60,\n",
    "    \"desconto\": desconto/100\n",
    "}\n",
    "\n",
    "\n",
    "fatura_cativa = calcular_fatura_cativa(quantidade, tarifa, impostos_bandeira)\n",
    "fatura_uso = calcular_fatura_uso(quantidade, tarifa, impostos_bandeira)\n",
    "fatura_livre = calcular_fatura_livre(quantidade, preco, impostos_bandeira, fatura_uso, fatura_cativa)"
   ]
  },
  {
   "cell_type": "code",
   "execution_count": 5,
   "metadata": {},
   "outputs": [
    {
     "data": {
      "text/plain": [
       "{'Demanda HFP': 2843.183649455792,\n",
       " 'Demanda HFP sICMS': 0.0,\n",
       " 'Demanda HP': 0.0,\n",
       " 'Demanda HP sICMS': 0.0,\n",
       " 'Energia HFP': 5379.9224935091515,\n",
       " 'Energia HP': 2813.0891324644763,\n",
       " 'Energia HR': 0.0,\n",
       " 'Energia Compensada HFP': 0.0,\n",
       " 'Energia Compensada HP': 0.0,\n",
       " 'Desconto Irrigante Noturno': 0.0,\n",
       " 'Custo da Bandeira': 0.0,\n",
       " 'Fatura Cativa': 11036.19527542942}"
      ]
     },
     "execution_count": 5,
     "metadata": {},
     "output_type": "execute_result"
    }
   ],
   "source": [
    "fatura_cativa"
   ]
  },
  {
   "cell_type": "code",
   "execution_count": 6,
   "metadata": {},
   "outputs": [
    {
     "data": {
      "text/plain": [
       "{'Demanda HFP': 2843.183649455792,\n",
       " 'Demanda HFP sICMS': 0.0,\n",
       " 'Demanda HP': 0.0,\n",
       " 'Demanda HP sICMS': 0.0,\n",
       " 'Energia HFP': 1572.5120544336014,\n",
       " 'Energia HP': 2213.9997697827002,\n",
       " 'Energia HR': 0.0,\n",
       " 'Energia Compensada HFP': None,\n",
       " 'Energia Compensada HP': None,\n",
       " 'Desconto Irrigante Noturno': 0.0,\n",
       " 'Desconto Demanda HFP': 1111.5,\n",
       " 'Desconto Demanda HP': 0.0,\n",
       " 'Desconto TUSD HP': 804.055,\n",
       " 'Fatura de Uso': 4714.140473672093}"
      ]
     },
     "execution_count": 6,
     "metadata": {},
     "output_type": "execute_result"
    }
   ],
   "source": [
    "fatura_uso"
   ]
  },
  {
   "cell_type": "code",
   "execution_count": 7,
   "metadata": {},
   "outputs": [
    {
     "data": {
      "text/plain": [
       "{'Fatura Livre': [3533.1463414634145,\n",
       "  3533.1463414634145,\n",
       "  3533.1463414634145,\n",
       "  3533.1463414634145,\n",
       "  3533.1463414634145,\n",
       "  3533.1463414634145],\n",
       " 'anos': [2026, 2027, 2028, 2029, 2030, 2031]}"
      ]
     },
     "execution_count": 7,
     "metadata": {},
     "output_type": "execute_result"
    }
   ],
   "source": [
    "fatura_livre"
   ]
  },
  {
   "cell_type": "code",
   "execution_count": 8,
   "metadata": {},
   "outputs": [
    {
     "name": "stderr",
     "output_type": "stream",
     "text": [
      "2025-04-15 10:40:58.260 Thread 'MainThread': missing ScriptRunContext! This warning can be ignored when running in bare mode.\n",
      "2025-04-15 10:40:58.260 Thread 'MainThread': missing ScriptRunContext! This warning can be ignored when running in bare mode.\n",
      "2025-04-15 10:40:58.263 Thread 'MainThread': missing ScriptRunContext! This warning can be ignored when running in bare mode.\n"
     ]
    },
    {
     "name": "stdout",
     "output_type": "stream",
     "text": [
      "calcular_fatura_livre - fatura_cativa: 11036.19527542942\n",
      "calcular_fatura_livre - fatura_uso: 4714.140473672093\n",
      "calcular_fatura_livre - len(preco['anos']): 6\n",
      "calcular_fatura_livre - len(preco['preco']): 6\n",
      "calcular_fatura_livre - quantidade: {'Demanda HFP': 100, 'Demanda HFP sICMS': 0, 'Demanda HP': 0, 'Demanda HP sICMS': 0, 'Demanda HR': 0, 'Demanda HR sICMS': 0, 'Energia HFP': 10000, 'Energia HP': 1000, 'Energia HR': 0, 'Energia Compensada HFP': 0, 'Energia Compensada HP': 0}\n",
      "calcular_fatura_livre - fatura_livre: [3533.1463414634145, 3533.1463414634145, 3533.1463414634145, 3533.1463414634145, 3533.1463414634145, 3533.1463414634145]\n"
     ]
    },
    {
     "name": "stderr",
     "output_type": "stream",
     "text": [
      "2025-04-15 10:40:58.273 Thread 'MainThread': missing ScriptRunContext! This warning can be ignored when running in bare mode.\n",
      "2025-04-15 10:40:58.275 Thread 'MainThread': missing ScriptRunContext! This warning can be ignored when running in bare mode.\n"
     ]
    }
   ],
   "source": [
    "# Calculate various invoices\n",
    "fatura_cativa = calcular_fatura_cativa(quantidade, tarifa, impostos_bandeira)[\"Fatura Cativa\"]\n",
    "fatura_uso = calcular_fatura_uso(quantidade, tarifa, impostos_bandeira)[\"Fatura de Uso\"]\n",
    "fatura_livre = calcular_fatura_livre(quantidade, preco, impostos_bandeira, fatura_uso, fatura_cativa)[\"Fatura Livre\"]\n",
    "\n",
    "# Calculate savings\n",
    "economia_mensal = fatura_cativa - fatura_uso - fatura_livre[0]\n",
    "economia_anual = economia_mensal * 12"
   ]
  },
  {
   "cell_type": "code",
   "execution_count": 9,
   "metadata": {},
   "outputs": [
    {
     "data": {
      "text/plain": [
       "33466.90152352695"
      ]
     },
     "execution_count": 9,
     "metadata": {},
     "output_type": "execute_result"
    }
   ],
   "source": [
    "economia_anual"
   ]
  },
  {
   "cell_type": "code",
   "execution_count": 10,
   "metadata": {},
   "outputs": [
    {
     "data": {
      "text/plain": [
       "2788.908460293912"
      ]
     },
     "execution_count": 10,
     "metadata": {},
     "output_type": "execute_result"
    }
   ],
   "source": [
    "economia_mensal"
   ]
  },
  {
   "cell_type": "code",
   "execution_count": 12,
   "metadata": {},
   "outputs": [],
   "source": [
    "months = [min(12, max(0, preco[\"duracao_meses\"] - 12*i)) for i in range(len(preco[\"anos\"]))]\n",
    "economy = [(fatura_cativa - fatura_uso - fatura_livre[i])*months[i] for i in range(len(months))]\n",
    "percentual_economy = [(fatura_cativa - fatura_uso - fatura_livre[i])/fatura_cativa for i in range(len(fatura_livre))]\n",
    "    "
   ]
  },
  {
   "cell_type": "code",
   "execution_count": 13,
   "metadata": {},
   "outputs": [
    {
     "data": {
      "text/plain": [
       "[12, 12, 12, 12, 12, 0]"
      ]
     },
     "execution_count": 13,
     "metadata": {},
     "output_type": "execute_result"
    }
   ],
   "source": [
    "months"
   ]
  },
  {
   "cell_type": "code",
   "execution_count": 14,
   "metadata": {},
   "outputs": [
    {
     "data": {
      "text/plain": [
       "[33466.90152352695,\n",
       " 33466.90152352695,\n",
       " 33466.90152352695,\n",
       " 33466.90152352695,\n",
       " 33466.90152352695,\n",
       " 0.0]"
      ]
     },
     "execution_count": 14,
     "metadata": {},
     "output_type": "execute_result"
    }
   ],
   "source": [
    "economy"
   ]
  },
  {
   "cell_type": "code",
   "execution_count": 15,
   "metadata": {},
   "outputs": [
    {
     "data": {
      "text/plain": [
       "[0.2527056101030611,\n",
       " 0.2527056101030611,\n",
       " 0.2527056101030611,\n",
       " 0.2527056101030611,\n",
       " 0.2527056101030611,\n",
       " 0.2527056101030611]"
      ]
     },
     "execution_count": 15,
     "metadata": {},
     "output_type": "execute_result"
    }
   ],
   "source": [
    "percentual_economy"
   ]
  },
  {
   "cell_type": "code",
   "execution_count": 19,
   "metadata": {},
   "outputs": [
    {
     "name": "stdout",
     "output_type": "stream",
     "text": [
      "Light bulb image loaded successfully: (73, 253, 3)\n",
      "Power line image loaded successfully: (93, 289, 3)\n"
     ]
    }
   ],
   "source": [
    "energy_cost_plot(fatura_cativa,fatura_livre[0], fatura_uso, economy[0]/12)\n"
   ]
  },
  {
   "cell_type": "code",
   "execution_count": null,
   "metadata": {},
   "outputs": [],
   "source": []
  }
 ],
 "metadata": {
  "kernelspec": {
   "display_name": "Python 3",
   "language": "python",
   "name": "python3"
  },
  "language_info": {
   "codemirror_mode": {
    "name": "ipython",
    "version": 3
   },
   "file_extension": ".py",
   "mimetype": "text/x-python",
   "name": "python",
   "nbconvert_exporter": "python",
   "pygments_lexer": "ipython3",
   "version": "3.12.5"
  }
 },
 "nbformat": 4,
 "nbformat_minor": 2
}
