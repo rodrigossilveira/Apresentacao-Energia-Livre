{
 "cells": [
  {
   "cell_type": "code",
   "execution_count": 35,
   "metadata": {},
   "outputs": [],
   "source": [
    "from lxml import etree\n",
    "import base64\n",
    "import sqlite3\n",
    "import pandas as pd\n",
    "import cairosvg\n",
    "from PyPDF2 import PdfMerger\n",
    "from datetime import datetime, timedelta\n",
    "from io import BytesIO\n",
    "import os\n",
    "from modules.data_utils import fetch_agent_contact_info\n",
    "\n",
    "# Define namespaces\n",
    "NSMAP = {\n",
    "    None: \"http://www.w3.org/2000/svg\",\n",
    "    \"xlink\": \"http://www.w3.org/1999/xlink\",\n",
    "    \"inkscape\": \"http://www.inkscape.org/namespaces/inkscape\",\n",
    "    \"sodipodi\": \"http://sodipodi.sourceforge.net/DTD/sodipodi-0.dtd\"\n",
    "}\n",
    "\n",
    "def load_svg(input_svg_path):\n",
    "    \"\"\"\n",
    "    Load and parse an SVG file.\n",
    "\n",
    "    Args:\n",
    "        input_svg_path (str): Path to the input SVG file.\n",
    "\n",
    "    Returns:\n",
    "        tuple: A tuple containing the parsed tree and root element, or (None, None) if an error occurs.\n",
    "    \"\"\"\n",
    "    try:\n",
    "        tree = etree.parse(input_svg_path)\n",
    "        root = tree.getroot()\n",
    "        return tree, root\n",
    "    except FileNotFoundError:\n",
    "        print(f\"Error: SVG file not found at '{input_svg_path}'\")\n",
    "    except etree.XMLSyntaxError as e:\n",
    "        print(f\"Error parsing SVG file: {e}\")\n",
    "    except Exception as e:\n",
    "        print(f\"Unexpected error: {e}\")\n",
    "    return None, None\n",
    "\n",
    "def replace_text(root, element_id, old_text, new_text, namespaces):\n",
    "    text_element = root.find(f\".//*[@id='{element_id}']\", namespaces=namespaces)\n",
    "    if text_element is not None:\n",
    "        tspan_x = text_element.get(\"x\")\n",
    "        tspan_y = text_element.get(\"y\")\n",
    "        updated_text = text_element.text.replace(old_text, str(new_text))\n",
    "        text_element.text = updated_text\n",
    "        if tspan_x is not None:\n",
    "            text_element.set(\"x\", tspan_x)\n",
    "        if tspan_y is not None:\n",
    "            text_element.set(\"y\", tspan_y)\n",
    "        # Ensure parent <tspan> or <text> doesn’t override\n",
    "        parent = text_element.getparent()\n",
    "        if parent.tag == \"{http://www.w3.org/2000/svg}tspan\":\n",
    "            parent_x = parent.get(\"x\")\n",
    "            parent_y = parent.get(\"y\")\n",
    "            if parent_x is not None:\n",
    "                parent.set(\"x\", parent_x)\n",
    "            if parent_y is not None:\n",
    "                parent.set(\"y\", parent_y)\n",
    "        #print(f\"Stabilized <tspan> at x={tspan_x}, y={tspan_y}\")\n",
    "\n",
    "def embed_svg(root, base_svg_path, embed_svg_path, x=0, y=0, scale=1.0):\n",
    "    try:\n",
    "        # Parse the SVG to embed\n",
    "        embed_tree = etree.parse(embed_svg_path)\n",
    "        embed_root = embed_tree.getroot()\n",
    "\n",
    "        # Create a <g> element to group the embedded SVG content\n",
    "        group = etree.Element(\"g\", nsmap=NSMAP)\n",
    "        transform = f\"translate({x}, {y}) scale({scale})\"\n",
    "        group.set(\"transform\", transform)\n",
    "\n",
    "        # Move all children from the embed SVG's root to the group\n",
    "        for child in embed_root:\n",
    "            group.append(child)\n",
    "\n",
    "        # Insert the group at the beginning of the root's children\n",
    "        root.insert(0, group)  # Changed from append to insert at index 0\n",
    "\n",
    "        print(f\"SVG embedded successfully at the start of the root\")\n",
    "        return root.getroottree()\n",
    "\n",
    "    except etree.XMLSyntaxError as e:\n",
    "        print(f\"Error parsing embedded SVG: {e}\")\n",
    "    except FileNotFoundError as e:\n",
    "        print(f\"Error: Embedded SVG file not found - {e}\")\n",
    "    except Exception as e:\n",
    "        print(f\"Unexpected error: {e}\")\n",
    "        return None\n"
   ]
  },
  {
   "cell_type": "code",
   "execution_count": 61,
   "metadata": {},
   "outputs": [
    {
     "name": "stdout",
     "output_type": "stream",
     "text": [
      "SVG embedded successfully at the start of the root\n",
      "SVG embedded successfully at the start of the root\n",
      "Modified SVG saved to 'Temp_ppt/page 7.svg'\n"
     ]
    },
    {
     "name": "stderr",
     "output_type": "stream",
     "text": [
      "C:\\Users\\Rodri\\AppData\\Local\\Temp\\ipykernel_37336\\2530711646.py:49: FutureWarning: The behavior of this method will change in future versions. Use specific 'len(elem)' or 'elem is not None' test instead.\n",
      "  if not tree or not root:\n"
     ]
    }
   ],
   "source": [
    "# Add this before saving the tree at the end of process_page7\n",
    "def flatten_svg_structure(root):\n",
    "    \"\"\"Flatten the SVG structure to ensure proper layer ordering.\"\"\"\n",
    "    # Find all nested SVGs that were embedded\n",
    "    embedded_svgs = root.findall(\".//svg:svg\", namespaces=NSMAP)\n",
    "    \n",
    "    # For each embedded SVG, extract its elements and add them directly to the parent\n",
    "    for embedded_svg in embedded_svgs:\n",
    "        parent = embedded_svg.getparent()\n",
    "        \n",
    "        # Create a group to contain all elements from the embedded SVG\n",
    "        group = etree.Element(\"{%s}g\" % NSMAP['svg'])\n",
    "        \n",
    "        # Copy any transform from the embedded SVG to the new group\n",
    "        if embedded_svg.get(\"transform\"):\n",
    "            group.set(\"transform\", embedded_svg.get(\"transform\"))\n",
    "        \n",
    "        # Move all elements from embedded SVG to the group\n",
    "        for element in list(embedded_svg):\n",
    "            group.append(element)\n",
    "        \n",
    "        # Replace the embedded SVG with the group in the parent\n",
    "        parent.replace(embedded_svg, group)\n",
    "\n",
    "# After embedding all SVGs, ensure proper stacking order\n",
    "def enforce_layer_order(root):\n",
    "    \"\"\"Enforce proper layer ordering of elements.\"\"\"\n",
    "    # Find the main container element (often a group or the root)\n",
    "    container = root\n",
    "    \n",
    "    # Sort elements by their intended z-index if specified\n",
    "    elements = list(container)\n",
    "    \n",
    "    # Reorder elements based on priority\n",
    "    # Remove all elements from container\n",
    "    for element in elements:\n",
    "        container.remove(element)\n",
    "    \n",
    "    # Add them back in correct order\n",
    "    for element in elements:\n",
    "        container.append(element)\n",
    "\n",
    "def process_page7(IN, media_mensal, total_contrato, economia_contratual, economia_anual, input_svg_path=\"Proposta PPT/page 7.svg\", output_svg_path=\"Temp_ppt/page 7.svg\", db_path=\"DataBase.db\"):\n",
    "    \n",
    "    validade = datetime.today() + timedelta(days=5)\n",
    "\n",
    "    # Load the SVG file\n",
    "    tree, root = load_svg(input_svg_path)\n",
    "    if not tree or not root:\n",
    "        return\n",
    "    \n",
    "    # Replace text in the SVG file\n",
    "    replace_text(root, \"tspan520-74-4-0-6\", \"XXXXXXXXXX\", IN, NSMAP) \n",
    "    replace_text(root, \"tspan520-7\", \"xx xxx,xx\", f\"{media_mensal:,.2f}\".replace(\",\", \" \").replace(\".\",\",\"), NSMAP) \n",
    "    replace_text(root, \"tspan520-7-1\", \"xx xxx,xx\", f\"{total_contrato:,.2f}\".replace(\",\", \" \").replace(\".\",\",\"), NSMAP)\n",
    "    replace_text(root, \"tspan5\", \"XXX XXX\", f\"{total_contrato:,.0f}\".replace(\",\", \" \").replace(\".\",\",\"), NSMAP)\n",
    "    replace_text(root, \"tspan1\", \"25%\",  f\"{economia_contratual:.0%}\" , NSMAP)    \n",
    "    #replace_text(root, \"tspan2\",\"14%\", f\"{economia_efetiva:.0%}\" , NSMAP)\n",
    "    replace_text(root, \"tspan12\",\"20/02/2025\", f\"{validade.day:02d}/{validade.month:02d}/{validade.year}\", NSMAP)  \n",
    "    embed_svg(root, input_svg_path,\"images/energy_cost_plot.svg\" ,x=125,y=75, scale= 0.18)\n",
    "    embed_svg(root, input_svg_path,\"images/historic_graph.svg\" ,x=80,y=170, scale= 0.165)\n",
    "    \n",
    "    # Save the modified SVG file\n",
    "    try:\n",
    "        #flatten_svg_structure(root)  # Flatten the SVG structure before saving\n",
    "        #enforce_layer_order(root)  # Ensure proper layer ordering of elements\n",
    "        tree.write(output_svg_path, pretty_print=True, xml_declaration=True, encoding=\"utf-8\")\n",
    "        print(f\"Modified SVG saved to '{output_svg_path}'\")\n",
    "\n",
    "    except IOError as e:\n",
    "        print(f\"Error saving modified SVG: {e}\")\n",
    "    \n",
    "    except Exception as e:\n",
    "        print(f\"Unexpected error: {e}\")\n",
    "\n",
    "process_page7(\"30411253\", 4370.00, 157370.00, 0.26, 0.12)"
   ]
  },
  {
   "cell_type": "code",
   "execution_count": 62,
   "metadata": {},
   "outputs": [
    {
     "name": "stdout",
     "output_type": "stream",
     "text": [
      "Converted Temp_ppt/page 7.svg to PDF stream\n",
      "Merged PDF saved as Temp_ppt/page7.pdf\n"
     ]
    }
   ],
   "source": [
    "from modules.pdf_builder import generate_pdf, open_pdf\n",
    "\n",
    "generate_pdf([\"Temp_ppt/page 7.svg\"], \"Temp_ppt/page7.pdf\")\n",
    "open_pdf(r\"C:\\Users\\Rodri\\Documents\\Apresentacao-Energia-Livre\\Temp_ppt\\page7.pdf\")"
   ]
  },
  {
   "cell_type": "code",
   "execution_count": 29,
   "metadata": {},
   "outputs": [],
   "source": [
    "from modules.pdf_builder import process_page5"
   ]
  },
  {
   "cell_type": "code",
   "execution_count": 30,
   "metadata": {},
   "outputs": [
    {
     "name": "stderr",
     "output_type": "stream",
     "text": [
      "c:\\Users\\Rodri\\Documents\\Apresentacao-Energia-Livre\\modules\\pdf_builder.py:224: FutureWarning: The behavior of this method will change in future versions. Use specific 'len(elem)' or 'elem is not None' test instead.\n",
      "  if not tree or not root:\n"
     ]
    },
    {
     "name": "stdout",
     "output_type": "stream",
     "text": [
      "SVG embedded successfully\n",
      "Modified SVG saved to 'Temp_ppt/page 5.svg'\n",
      "Converted Temp_ppt/page 5.svg to PDF stream\n",
      "Merged PDF saved as Temp_ppt/page 5.pdf\n"
     ]
    }
   ],
   "source": [
    "process_page5(\"30411253\", 4370.00, 157370.00, 0.26, 0.12)\n",
    "generate_pdf([\"Temp_ppt/page 5.svg\"], \"Temp_ppt/page 5.pdf\")"
   ]
  },
  {
   "cell_type": "code",
   "execution_count": 1,
   "metadata": {},
   "outputs": [],
   "source": [
    "from modules.plot_generator import create_historic_graph"
   ]
  },
  {
   "cell_type": "code",
   "execution_count": 9,
   "metadata": {},
   "outputs": [],
   "source": [
    "\n",
    "months = [\"Jan\", \"Feb\", \"Mar\", \"Apr\", \"May\", \"Jun\", \"Jul\", \"Aug\", \"Sep\", \"Oct\", \"Nov\", \"Dec\"]\n",
    "vs_cativo = [620, 610, 630, 600, 640, 650, 660, 670, 680, 690, 700, 710]\n",
    "v_desconto = [12, 14, 13, 15, 14, 13, 12, 14, 13, 15, 14, 13]\n",
    "vs_fio_acl = [0.75 * cativo - desconto for cativo, desconto in zip(vs_cativo, v_desconto)]\n",
    "\n",
    "create_historic_graph(months, vs_cativo, v_desconto, vs_fio_acl, figsize=(16,5))"
   ]
  },
  {
   "cell_type": "code",
   "execution_count": null,
   "metadata": {},
   "outputs": [],
   "source": []
  }
 ],
 "metadata": {
  "kernelspec": {
   "display_name": "Python 3",
   "language": "python",
   "name": "python3"
  },
  "language_info": {
   "codemirror_mode": {
    "name": "ipython",
    "version": 3
   },
   "file_extension": ".py",
   "mimetype": "text/x-python",
   "name": "python",
   "nbconvert_exporter": "python",
   "pygments_lexer": "ipython3",
   "version": "3.12.5"
  }
 },
 "nbformat": 4,
 "nbformat_minor": 2
}
