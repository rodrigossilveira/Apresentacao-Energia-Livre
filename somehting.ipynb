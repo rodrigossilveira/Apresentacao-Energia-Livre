{
 "cells": [
  {
   "cell_type": "code",
   "execution_count": 2,
   "metadata": {},
   "outputs": [],
   "source": [
    "import pandas as pd\n",
    "from lxml import etree\n",
    "import base64"
   ]
  },
  {
   "cell_type": "code",
   "execution_count": 1,
   "metadata": {},
   "outputs": [
    {
     "name": "stdout",
     "output_type": "stream",
     "text": [
      "Note: you may need to restart the kernel to use updated packages.\n"
     ]
    },
    {
     "name": "stderr",
     "output_type": "stream",
     "text": [
      "\n",
      "[notice] A new release of pip is available: 24.2 -> 25.0.1\n",
      "[notice] To update, run: python.exe -m pip install --upgrade pip\n",
      "ERROR: Invalid requirement: 'lxml,': Expected end or semicolon (after name and no valid version specifier)\n",
      "    lxml,\n",
      "        ^\n"
     ]
    }
   ],
   "source": [
    "pip install lxml, base64"
   ]
  },
  {
   "cell_type": "code",
   "execution_count": 12,
   "metadata": {},
   "outputs": [
    {
     "name": "stdout",
     "output_type": "stream",
     "text": [
      "Modified SVG saved as output.svg\n"
     ]
    }
   ],
   "source": [
    "from lxml import etree\n",
    "import base64\n",
    "\n",
    "# SVG namespace handling (for Inkscape compatibility)\n",
    "NSMAP = {\n",
    "    None: \"http://www.w3.org/2000/svg\",\n",
    "    \"svg\": \"http://www.w3.org/2000/svg\",\n",
    "    \"xlink\": \"http://www.w3.org/1999/xlink\",\n",
    "    \"inkscape\": \"http://www.inkscape.org/namespaces/inkscape\"  # Optional, for Inkscape SVGs\n",
    "}\n",
    "etree.register_namespace(\"xlink\", \"http://www.w3.org/1999/xlink\")\n",
    "\n",
    "# Load the SVG file\n",
    "svg_file = r\"Proposta PPT/page 10.svg\"\n",
    "tree = etree.parse(svg_file)\n",
    "root = tree.getroot()\n",
    "\n",
    "# 1. Populate text fields by ID\n",
    "text_ids = {\"title\": \"New Title\", \"subtitle\": \"New Subtitle\"}  # Example ID-to-text mapping\n",
    "for text_id, new_text in text_ids.items():\n",
    "    text_element = root.find(f\".//*[@id='{\"tspan2\"}']\", namespaces=NSMAP)\n",
    "    if text_element is not None:\n",
    "        text_element.text = new_text\n",
    "    else:\n",
    "        print(f\"Warning: Text element with ID '{text_id}' not found.\")\n",
    "\n",
    "\"\"\"# 2. Insert an SVG image\n",
    "svg_image_path = \"images/flags_plot.svg\"\n",
    "svg_image_element = etree.SubElement(\n",
    "    root,\n",
    "    \"image\",\n",
    "    attrib={\n",
    "        \"x\": \"50\",\n",
    "        \"y\": \"50\",\n",
    "        \"width\": \"100\",\n",
    "        \"height\": \"100\",\n",
    "        \"xlink:href\": svg_image_path  # Link to external SVG file\n",
    "    },\n",
    "    nsmap=NSMAP\n",
    "    )\n",
    "    \"\"\"\n",
    "\n",
    "\n",
    "\"\"\"# 3. Insert a PNG image (base64 encoded)\n",
    "png_image_path = \"image.png\"\n",
    "with open(png_image_path, \"rb\") as img_file:\n",
    "    encoded_png = base64.b64encode(img_file.read()).decode(\"utf-8\")\n",
    "png_image_element = etree.SubElement(\n",
    "    root,\n",
    "    \"image\",\n",
    "    attrib={\n",
    "        \"x\": \"150\",\n",
    "        \"y\": \"50\",\n",
    "        \"width\": \"100\",\n",
    "        \"height\": \"100\",\n",
    "        \"xlink:href\": f\"data:image/png;base64,{encoded_png}\"\n",
    "    },\n",
    "    nsmap=NSMAP\n",
    "\n",
    ")\n",
    "\"\"\"\n",
    "# Save the modified SVG\n",
    "output_file = \"output.svg\"\n",
    "tree.write(output_file, pretty_print=True, xml_declaration=True, encoding=\"utf-8\")\n",
    "\n",
    "print(f\"Modified SVG saved as {output_file}\")"
   ]
  },
  {
   "cell_type": "code",
   "execution_count": 10,
   "metadata": {},
   "outputs": [],
   "source": [
    "from lxml import etree\n",
    "\n",
    "# Define namespaces\n",
    "NSMAP = {\n",
    "    None: \"http://www.w3.org/2000/svg\",  # Default SVG namespace\n",
    "    \"xlink\": \"http://www.w3.org/1999/xlink\"  # XLink namespace\n",
    "}\n",
    "\n",
    "# Create or load the SVG root element\n",
    "root = etree.Element(\"svg\", nsmap=NSMAP)\n",
    "\n",
    "# Add an image element with xlink:href\n",
    "svg_image_path = \"images/flags_plot.svg\"\n",
    "svg_image_element = etree.SubElement(\n",
    "    root,\n",
    "    \"image\",\n",
    "    attrib={\n",
    "        \"x\": \"50\",\n",
    "        \"y\": \"50\",\n",
    "        \"width\": \"100\",\n",
    "        \"height\": \"100\",\n",
    "        \"{http://www.w3.org/1999/xlink}href\": svg_image_path  # Fully qualified name\n",
    "    },\n",
    "    nsmap=NSMAP\n",
    ")\n",
    "\n",
    "# Save the modified SVG to a file\n",
    "with open(\"output.svg\", \"wb\") as f:\n",
    "    f.write(etree.tostring(root, pretty_print=True))"
   ]
  },
  {
   "cell_type": "code",
   "execution_count": 13,
   "metadata": {},
   "outputs": [
    {
     "name": "stdout",
     "output_type": "stream",
     "text": [
      "Tables in the database:\n",
      "Contatos_Agentes\n",
      "last_updated_date\n",
      "tariff_flags\n",
      "ANEEL_DB\n"
     ]
    }
   ],
   "source": [
    "import sqlite3\n",
    "\n",
    "# Path to your SQLite database file\n",
    "db_path = \"DataBase.db\"  # Replace with the path to your SQLite database\n",
    "\n",
    "# Connect to the SQLite database\n",
    "conn = sqlite3.connect(db_path)\n",
    "cursor = conn.cursor()\n",
    "\n",
    "try:\n",
    "    # Query to retrieve all tables\n",
    "    cursor.execute(\"SELECT name FROM sqlite_master WHERE type='table';\")\n",
    "    \n",
    "    # Fetch all results\n",
    "    tables = cursor.fetchall()\n",
    "    \n",
    "    # Print the table names\n",
    "    if tables:\n",
    "        print(\"Tables in the database:\")\n",
    "        for table in tables:\n",
    "            print(table[0])  # Each result is a tuple, so access the first element\n",
    "    else:\n",
    "        print(\"No tables found in the database.\")\n",
    "\n",
    "finally:\n",
    "    # Close the connection\n",
    "    cursor.close()\n",
    "    conn.close()"
   ]
  },
  {
   "cell_type": "code",
   "execution_count": 16,
   "metadata": {},
   "outputs": [],
   "source": [
    "conn = sqlite3.connect(\"DataBase.db\")\n",
    "query = f\"SELECT * FROM Contatos_Agentes\"\n",
    "try:\n",
    "    bandeira = pd.read_sql_query(query, conn)\n",
    "finally:\n",
    "    conn.close()\n"
   ]
  },
  {
   "cell_type": "code",
   "execution_count": 17,
   "metadata": {},
   "outputs": [
    {
     "data": {
      "text/html": [
       "<div>\n",
       "<style scoped>\n",
       "    .dataframe tbody tr th:only-of-type {\n",
       "        vertical-align: middle;\n",
       "    }\n",
       "\n",
       "    .dataframe tbody tr th {\n",
       "        vertical-align: top;\n",
       "    }\n",
       "\n",
       "    .dataframe thead th {\n",
       "        text-align: right;\n",
       "    }\n",
       "</style>\n",
       "<table border=\"1\" class=\"dataframe\">\n",
       "  <thead>\n",
       "    <tr style=\"text-align: right;\">\n",
       "      <th></th>\n",
       "      <th>Agente</th>\n",
       "      <th>e-mail</th>\n",
       "      <th>telefone</th>\n",
       "    </tr>\n",
       "  </thead>\n",
       "  <tbody>\n",
       "    <tr>\n",
       "      <th>0</th>\n",
       "      <td>Rosilange Sabina da Silva Betzer</td>\n",
       "      <td>rsabina@cemig.com.br</td>\n",
       "      <td>(31)97176-2249</td>\n",
       "    </tr>\n",
       "    <tr>\n",
       "      <th>1</th>\n",
       "      <td>Fernando Madeira</td>\n",
       "      <td>fmadeira@cemig.com.br</td>\n",
       "      <td>(35)99988-6033</td>\n",
       "    </tr>\n",
       "    <tr>\n",
       "      <th>2</th>\n",
       "      <td>Daniel Brognaro Penido</td>\n",
       "      <td>daniel.penido@cemig.com.br</td>\n",
       "      <td>(31)99647-6429</td>\n",
       "    </tr>\n",
       "    <tr>\n",
       "      <th>3</th>\n",
       "      <td>Giselia Laila Aparecida de Lima</td>\n",
       "      <td>giselia@cemig.com.br</td>\n",
       "      <td>(37)99986-0976</td>\n",
       "    </tr>\n",
       "    <tr>\n",
       "      <th>4</th>\n",
       "      <td>Mauro Lucio Gonçalves</td>\n",
       "      <td>mauro.goncalves@cemig.com.br</td>\n",
       "      <td>(37)98421-0444</td>\n",
       "    </tr>\n",
       "    <tr>\n",
       "      <th>5</th>\n",
       "      <td>Renato Cruvinel Azevedo</td>\n",
       "      <td>renatoc@cemig.com.br</td>\n",
       "      <td>(37)99968-3838</td>\n",
       "    </tr>\n",
       "    <tr>\n",
       "      <th>6</th>\n",
       "      <td>Eber Fantazzini Monteiro</td>\n",
       "      <td>eber@cemig.com.br</td>\n",
       "      <td>(31)99894-6888</td>\n",
       "    </tr>\n",
       "    <tr>\n",
       "      <th>7</th>\n",
       "      <td>Patricia Kennedy Guimaraes</td>\n",
       "      <td>pathy@cemig.com.br</td>\n",
       "      <td>(34)98803-7067</td>\n",
       "    </tr>\n",
       "    <tr>\n",
       "      <th>8</th>\n",
       "      <td>Gustavo Setton Gama Lins</td>\n",
       "      <td>gustavo.lins@cemig.com.br</td>\n",
       "      <td>(31)97207-7355</td>\n",
       "    </tr>\n",
       "    <tr>\n",
       "      <th>9</th>\n",
       "      <td>Karla Danielle Pereira</td>\n",
       "      <td>karla.pereira@cemig.com.br</td>\n",
       "      <td>(31)99523-4183</td>\n",
       "    </tr>\n",
       "    <tr>\n",
       "      <th>10</th>\n",
       "      <td>Iolanda Millard da Cunha de Lima</td>\n",
       "      <td>iolanda.lima@cemig.com.br</td>\n",
       "      <td>(31)99523-4183</td>\n",
       "    </tr>\n",
       "  </tbody>\n",
       "</table>\n",
       "</div>"
      ],
      "text/plain": [
       "                              Agente                        e-mail  \\\n",
       "0   Rosilange Sabina da Silva Betzer          rsabina@cemig.com.br   \n",
       "1                   Fernando Madeira         fmadeira@cemig.com.br   \n",
       "2             Daniel Brognaro Penido    daniel.penido@cemig.com.br   \n",
       "3    Giselia Laila Aparecida de Lima          giselia@cemig.com.br   \n",
       "4              Mauro Lucio Gonçalves  mauro.goncalves@cemig.com.br   \n",
       "5            Renato Cruvinel Azevedo          renatoc@cemig.com.br   \n",
       "6           Eber Fantazzini Monteiro             eber@cemig.com.br   \n",
       "7         Patricia Kennedy Guimaraes            pathy@cemig.com.br   \n",
       "8           Gustavo Setton Gama Lins     gustavo.lins@cemig.com.br   \n",
       "9             Karla Danielle Pereira    karla.pereira@cemig.com.br   \n",
       "10  Iolanda Millard da Cunha de Lima     iolanda.lima@cemig.com.br   \n",
       "\n",
       "          telefone  \n",
       "0   (31)97176-2249  \n",
       "1   (35)99988-6033  \n",
       "2   (31)99647-6429  \n",
       "3   (37)99986-0976  \n",
       "4   (37)98421-0444  \n",
       "5   (37)99968-3838  \n",
       "6   (31)99894-6888  \n",
       "7   (34)98803-7067  \n",
       "8   (31)97207-7355  \n",
       "9   (31)99523-4183  \n",
       "10  (31)99523-4183  "
      ]
     },
     "execution_count": 17,
     "metadata": {},
     "output_type": "execute_result"
    }
   ],
   "source": [
    "bandeira"
   ]
  },
  {
   "cell_type": "code",
   "execution_count": 24,
   "metadata": {},
   "outputs": [],
   "source": [
    "agente = \"Fernando Madeira\"\n",
    "conn = sqlite3.connect(\"DataBase.db\")\n",
    "query = \"\"\"\n",
    "        SELECT \"e-mail\", telefone \n",
    "        FROM Contatos_Agentes \n",
    "        WHERE agente = ?\n",
    "        \"\"\"\n",
    "try:\n",
    "    smth = pd.read_sql_query(query, conn, params=(agente,))\n",
    "finally:\n",
    "    conn.close()"
   ]
  },
  {
   "cell_type": "code",
   "execution_count": 29,
   "metadata": {},
   "outputs": [
    {
     "data": {
      "text/plain": [
       "'fmadeira@cemig.com.br'"
      ]
     },
     "execution_count": 29,
     "metadata": {},
     "output_type": "execute_result"
    }
   ],
   "source": [
    "smth.iloc[0,0]"
   ]
  },
  {
   "cell_type": "code",
   "execution_count": 42,
   "metadata": {},
   "outputs": [],
   "source": [
    "def page10(agente):\n",
    "# SVG namespace handling (for Inkscape compatibility)\n",
    "    NSMAP = {\n",
    "        None: \"http://www.w3.org/2000/svg\",\n",
    "        \"svg\": \"http://www.w3.org/2000/svg\",\n",
    "        \"xlink\": \"http://www.w3.org/1999/xlink\",\n",
    "        \"inkscape\": \"http://www.inkscape.org/namespaces/inkscape\"  # Optional, for Inkscape SVGs\n",
    "    }\n",
    "    etree.register_namespace(\"xlink\", \"http://www.w3.org/1999/xlink\")\n",
    "\n",
    "    agente = \"Fernando Madeira\"\n",
    "    conn = sqlite3.connect(\"DataBase.db\")\n",
    "    query = \"\"\"\n",
    "            SELECT \"e-mail\", telefone \n",
    "            FROM Contatos_Agentes \n",
    "            WHERE agente = ?\n",
    "            \"\"\"\n",
    "    try:\n",
    "        agente = pd.read_sql_query(query, conn, params=(agente,))\n",
    "    finally:\n",
    "        conn.close()\n",
    "    email = agente.iloc[0][\"e-mail\"]\n",
    "    phone = agente.iloc[0][\"telefone\"]\n",
    "\n",
    "    # Load the SVG file\n",
    "    svg_file = r\"Proposta PPT/page 10.svg\"\n",
    "    tree = etree.parse(svg_file)\n",
    "    root = tree.getroot()\n",
    "\n",
    "    #replace_text(\"tspan520-7\", agente, NSMAP)\n",
    "    replace_text(\"tspan2\", email, NSMAP)\n",
    "    replace_text(\"tspan524\",phone, NSMAP)\n",
    "    \n",
    "    # Save the modified SVG\n",
    "    output_file = \"Temp_ppt/output2.svg\"\n",
    "    tree.write(output_file, pretty_print=True, xml_declaration=True, encoding=\"utf-8\")\n",
    "\n",
    "\n",
    "def replace_text(id, new_text, NSMAP):\n",
    "\n",
    "    text_ids = {\"title\": \"New Title\", \"subtitle\": new_text}  # Example ID-to-text mapping\n",
    "    for text_id, new_text in text_ids.items():\n",
    "        text_element = root.find(f\".//*[@id='{id}']\", namespaces=NSMAP)\n",
    "        if text_element is not None:\n",
    "            text_element.text = new_text\n",
    "        else:\n",
    "            print(f\"Warning: Text element with ID '{text_id}' not found.\")"
   ]
  },
  {
   "cell_type": "code",
   "execution_count": 43,
   "metadata": {},
   "outputs": [],
   "source": [
    "page10(\"Fernando Madeira\")"
   ]
  },
  {
   "cell_type": "code",
   "execution_count": 39,
   "metadata": {},
   "outputs": [
    {
     "data": {
      "text/plain": [
       "'Fernando Madeira'"
      ]
     },
     "execution_count": 39,
     "metadata": {},
     "output_type": "execute_result"
    }
   ],
   "source": [
    "agente"
   ]
  },
  {
   "cell_type": "code",
   "execution_count": 47,
   "metadata": {},
   "outputs": [
    {
     "name": "stdout",
     "output_type": "stream",
     "text": [
      "Modified SVG saved to output_page10.svg\n"
     ]
    }
   ],
   "source": [
    "import sqlite3\n",
    "import pandas as pd\n",
    "from lxml import etree\n",
    "\n",
    "# Define the function to replace text in an SVG element\n",
    "def replace_text(root, id, new_text, NSMAP):\n",
    "    \"\"\"\n",
    "    Replace the text content of an SVG element with the given ID.\n",
    "    \"\"\"\n",
    "    text_element = root.find(f\".//*[@id='{id}']\", namespaces=NSMAP)\n",
    "    if text_element is not None:\n",
    "        text_element.text = new_text  # Ensure new_text is a string\n",
    "    else:\n",
    "        print(f\"Warning: Text element with ID '{id}' not found.\")\n",
    "\n",
    "# Define the main function to process the SVG file\n",
    "def page10(agente):\n",
    "    # Load the SVG file\n",
    "    svg_file = r\"Proposta PPT/page 10.svg\"\n",
    "    tree = etree.parse(svg_file)\n",
    "    root = tree.getroot()\n",
    "\n",
    "    # Define namespaces\n",
    "    NSMAP = {\n",
    "        None: \"http://www.w3.org/2000/svg\",  # Default SVG namespace\n",
    "        \"xlink\": \"http://www.w3.org/1999/xlink\"  # XLink namespace\n",
    "    }\n",
    "\n",
    "    # Connect to the SQLite database\n",
    "    db_path = \"DataBase.db\"\n",
    "    try:\n",
    "        with sqlite3.connect(db_path) as conn:\n",
    "            # Query the database for email and phone\n",
    "            query = \"\"\"\n",
    "            SELECT \"e-mail\", telefone \n",
    "            FROM Contatos_Agentes \n",
    "            WHERE agente = ?\n",
    "            \"\"\"\n",
    "            df = pd.read_sql_query(query, conn, params=(agente,))\n",
    "            \n",
    "            # Check if the query returned any rows\n",
    "            if df.empty:\n",
    "                print(\"No results found for the given agent.\")\n",
    "                return\n",
    "            \n",
    "            # Extract email and phone as strings\n",
    "            email = df.iloc[0][\"e-mail\"]  # First row, \"e-mail\" column\n",
    "            phone = df.iloc[0][\"telefone\"]  # First row, \"telefone\" column\n",
    "            \n",
    "            # Replace text in the SVG file\n",
    "            replace_text(root, \"tspan520-7\", agente, NSMAP)  # Agent name\n",
    "            replace_text(root, \"tspan2\", email, NSMAP)       # Email\n",
    "            replace_text(root, \"tspan524\", phone, NSMAP)     # Phone\n",
    "            \n",
    "            # Save the modified SVG file\n",
    "            output_file = \"output_page10.svg\"\n",
    "            tree.write(output_file, pretty_print=True, xml_declaration=True, encoding=\"UTF-8\")\n",
    "            print(f\"Modified SVG saved to {output_file}\")\n",
    "    \n",
    "    except sqlite3.Error as e:\n",
    "        print(f\"An error occurred while accessing the database: {e}\")\n",
    "\n",
    "# Example usage\n",
    "page10(\"Fernando Madeira\")"
   ]
  },
  {
   "cell_type": "code",
   "execution_count": null,
   "metadata": {},
   "outputs": [
    {
     "name": "stdout",
     "output_type": "stream",
     "text": [
      "Modified SVG saved to output_page10.svg\n"
     ]
    }
   ],
   "source": [
    "NSMAP = {\n",
    "        None: \"http://www.w3.org/2000/svg\",\n",
    "        \"svg\": \"http://www.w3.org/2000/svg\",\n",
    "        \"xlink\": \"http://www.w3.org/1999/xlink\",\n",
    "        \"inkscape\": \"http://www.inkscape.org/namespaces/inkscape\"  # Optional, for Inkscape SVGs\n",
    "    }\n",
    "etree.register_namespace(\"xlink\", \"http://www.w3.org/1999/xlink\")\n",
    "\n",
    "agente = \"Fernando Madeira\"\n",
    "conn = sqlite3.connect(\"DataBase.db\")\n",
    "query = \"\"\"\n",
    "        SELECT \"e-mail\", telefone \n",
    "        FROM Contatos_Agentes \n",
    "        WHERE agente = ?\n",
    "        \"\"\"\n",
    "try:\n",
    "    agente = pd.read_sql_query(query, conn, params=(agente,))\n",
    "finally:\n",
    "    conn.close()\n",
    "email = agente.iloc[0,0]\n",
    "phone = agente.iloc[0,0]\n",
    "\n",
    "# Load the SVG file\n",
    "svg_file = r\"Proposta PPT/page 10.svg\"\n",
    "tree = etree.parse(svg_file)\n",
    "root = tree.getroot()\n",
    "\n",
    "id=\"tspan2\"\n",
    "for text_id, new_text in text_ids.items():\n",
    "    text_element = root.find(f\".//*[@id='{\"tspan2\"}']\", namespaces=NSMAP)\n",
    "    if text_element is not None:\n",
    "        text_element.text = new_text\n",
    "    else:\n",
    "        print(f\"Warning: Text element with ID '{text_id}' not found.\")\n",
    "\n",
    "# Save the modified SVG file\n",
    "output_file = \"output_page10.svg\"\n",
    "tree.write(output_file, pretty_print=True, xml_declaration=True, encoding=\"UTF-8\")\n",
    "print(f\"Modified SVG saved to {output_file}\")"
   ]
  },
  {
   "cell_type": "code",
   "execution_count": 56,
   "metadata": {},
   "outputs": [
    {
     "name": "stdout",
     "output_type": "stream",
     "text": [
      "Modified SVG saved to 'output_page10.svg'\n"
     ]
    }
   ],
   "source": [
    "import sqlite3\n",
    "import pandas as pd\n",
    "from lxml import etree\n",
    "\n",
    "# Define the function to replace text in an SVG element\n",
    "def replace_text(root, element_id, new_text, namespaces):\n",
    "    \"\"\"\n",
    "    Replace the text content of an SVG element with the given ID.\n",
    "    \n",
    "    Args:\n",
    "        root: The root element of the SVG tree\n",
    "        element_id: The ID of the element to modify\n",
    "        new_text: The new text to insert (converted to string)\n",
    "        namespaces: Dictionary of XML namespaces\n",
    "    \"\"\"\n",
    "    try:\n",
    "        text_element = root.find(f\".//*[@id='{element_id}']\", namespaces=namespaces)\n",
    "        if text_element is not None:\n",
    "            text_element.text = str(new_text)  # Convert to string to handle any input type\n",
    "        else:\n",
    "            print(f\"Warning: Element with ID '{element_id}' not found in SVG.\")\n",
    "    except Exception as e:\n",
    "        print(f\"Error replacing text for ID '{element_id}': {e}\")\n",
    "\n",
    "# Define the main function to process the SVG file\n",
    "def page10(agente, input_svg_path=\"Proposta PPT/page 10.svg\", output_svg_path=\"output_page10.svg\", db_path=\"DataBase.db\"):\n",
    "    \"\"\"\n",
    "    Process an SVG file by replacing text fields with data from a database.\n",
    "    \n",
    "    Args:\n",
    "        agente: The agent's name to query in the database\n",
    "        input_svg_path: Path to the input SVG file\n",
    "        output_svg_path: Path where the modified SVG will be saved\n",
    "        db_path: Path to the SQLite database\n",
    "    \"\"\"\n",
    "    # Load the SVG file\n",
    "    try:\n",
    "        tree = etree.parse(input_svg_path)\n",
    "        root = tree.getroot()\n",
    "    except FileNotFoundError:\n",
    "        print(f\"Error: SVG file not found at '{input_svg_path}'\")\n",
    "        return\n",
    "    except etree.XMLSyntaxError as e:\n",
    "        print(f\"Error parsing SVG file: {e}\")\n",
    "        return\n",
    "\n",
    "    # Define namespaces for Inkscape SVG compatibility\n",
    "    NSMAP = {\n",
    "        None: \"http://www.w3.org/2000/svg\",  # Default SVG namespace\n",
    "        \"xlink\": \"http://www.w3.org/1999/xlink\",\n",
    "        \"inkscape\": \"http://www.inkscape.org/namespaces/inkscape\",\n",
    "        \"sodipodi\": \"http://sodipodi.sourceforge.net/DTD/sodipodi-0.dtd\"\n",
    "    }\n",
    "\n",
    "    # Connect to the SQLite database\n",
    "    try:\n",
    "        with sqlite3.connect(db_path) as conn:\n",
    "            # Query the database for email and phone\n",
    "            query = \"\"\"\n",
    "            SELECT \"e-mail\", telefone \n",
    "            FROM Contatos_Agentes \n",
    "            WHERE agente = ?\n",
    "            \"\"\"\n",
    "            df = pd.read_sql_query(query, conn, params=(agente,))\n",
    "            \n",
    "            # Check if the query returned any rows\n",
    "            if df.empty:\n",
    "                print(f\"No results found for agent '{agente}' in the database.\")\n",
    "                return\n",
    "            \n",
    "            # Extract email and phone from the first row\n",
    "            email = df.iloc[0][\"e-mail\"]\n",
    "            phone = df.iloc[0][\"telefone\"]\n",
    "            \n",
    "            # Replace text in the SVG file\n",
    "            replace_text(root, \"tspan520-7\", agente, NSMAP)  # Agent name\n",
    "            replace_text(root, \"tspan2\", email, NSMAP)       # Email\n",
    "            replace_text(root, \"tspan524\", phone, NSMAP)     # Phone\n",
    "            \n",
    "            # Save the modified SVG file\n",
    "            try:\n",
    "                tree.write(output_svg_path, pretty_print=True, xml_declaration=True, encoding=\"utf-8\")\n",
    "                print(f\"Modified SVG saved to '{output_svg_path}'\")\n",
    "            except IOError as e:\n",
    "                print(f\"Error saving modified SVG: {e}\")\n",
    "    \n",
    "    except sqlite3.Error as e:\n",
    "        print(f\"Database error: {e}\")\n",
    "    except Exception as e:\n",
    "        print(f\"Unexpected error: {e}\")\n",
    "\n",
    "# Example usage\n",
    "if __name__ == \"__main__\":\n",
    "    page10(\"Fernando Madeira\")"
   ]
  },
  {
   "cell_type": "code",
   "execution_count": 17,
   "metadata": {},
   "outputs": [
    {
     "name": "stdout",
     "output_type": "stream",
     "text": [
      "Modified SVG saved to 'Temp_ppt/page10.svg'\n"
     ]
    }
   ],
   "source": [
    "from modules.pdf_builder import process_page10\n",
    "process_page10(\"Fernando Madeira\")"
   ]
  },
  {
   "cell_type": "code",
   "execution_count": 1,
   "metadata": {},
   "outputs": [
    {
     "name": "stdout",
     "output_type": "stream",
     "text": [
      "Converted Temp_ppt/page1.svg to Temp_ppt/page1_temp.pdf\n",
      "Converted Temp_ppt/page10.svg to Temp_ppt/page10_temp.pdf\n",
      "Merged PDF saved as Temp_ppt/proposta.pdf\n",
      "Removed temporary file Temp_ppt/page1_temp.pdf\n",
      "Removed temporary file Temp_ppt/page10_temp.pdf\n"
     ]
    }
   ],
   "source": [
    "from modules.pdf_builder import merge_svgs_to_pdf\n",
    "merge_svgs_to_pdf([\"Temp_ppt/page1.svg\",\"Temp_ppt/page10.svg\"], \"Temp_ppt/proposta.pdf\")"
   ]
  },
  {
   "cell_type": "code",
   "execution_count": 3,
   "metadata": {},
   "outputs": [],
   "source": [
    "from lxml import etree\n",
    "\n",
    "# Define namespaces\n",
    "NSMAP = {\n",
    "    None: \"http://www.w3.org/2000/svg\",\n",
    "    \"xlink\": \"http://www.w3.org/1999/xlink\",\n",
    "    \"inkscape\": \"http://www.inkscape.org/namespaces/inkscape\",\n",
    "    \"sodipodi\": \"http://sodipodi.sourceforge.net/DTD/sodipodi-0.dtd\"\n",
    "}\n",
    "\n",
    "def embed_svg(base_svg_path, embed_svg_path, output_svg_path, x=0, y=0, scale=1.0):\n",
    "    \"\"\"\n",
    "    Embed an SVG file into another SVG file at a specified position and scale.\n",
    "    \n",
    "    Args:\n",
    "        base_svg_path: Path to the base SVG file\n",
    "        embed_svg_path: Path to the SVG file to embed\n",
    "        output_svg_path: Path where the resulting SVG will be saved\n",
    "        x: X-coordinate for the embedded SVG's top-left corner (default: 0)\n",
    "        y: Y-coordinate for the embedded SVG's top-left corner (default: 0)\n",
    "        scale: Scaling factor for the embedded SVG (default: 1.0)\n",
    "    \"\"\"\n",
    "    try:\n",
    "        # Parse the base SVG\n",
    "        base_tree = etree.parse(base_svg_path)\n",
    "        base_root = base_tree.getroot()\n",
    "\n",
    "        # Parse the SVG to embed\n",
    "        embed_tree = etree.parse(embed_svg_path)\n",
    "        embed_root = embed_tree.getroot()\n",
    "\n",
    "        # Create a <g> element to group the embedded SVG content\n",
    "        group = etree.Element(\"g\", nsmap=NSMAP)\n",
    "        transform = f\"translate({x}, {y}) scale({scale})\"\n",
    "        group.set(\"transform\", transform)\n",
    "\n",
    "        # Move all children from the embed SVG's root to the group\n",
    "        for child in embed_root:\n",
    "            group.append(child)\n",
    "\n",
    "        # Append the group to the base SVG's root\n",
    "        base_root.append(group)\n",
    "\n",
    "        # Save the modified SVG\n",
    "        base_tree.write(output_svg_path, pretty_print=True, xml_declaration=True, encoding=\"utf-8\")\n",
    "        print(f\"Embedded SVG saved as {output_svg_path}\")\n",
    "\n",
    "    except etree.XMLSyntaxError as e:\n",
    "        print(f\"Error parsing SVG: {e}\")\n",
    "    except FileNotFoundError as e:\n",
    "        print(f\"Error: File not found - {e}\")\n",
    "    except Exception as e:\n",
    "        print(f\"Unexpected error: {e}\")"
   ]
  },
  {
   "cell_type": "code",
   "execution_count": 1,
   "metadata": {},
   "outputs": [
    {
     "ename": "NameError",
     "evalue": "name 'embed_svg' is not defined",
     "output_type": "error",
     "traceback": [
      "\u001b[1;31m---------------------------------------------------------------------------\u001b[0m",
      "\u001b[1;31mNameError\u001b[0m                                 Traceback (most recent call last)",
      "Cell \u001b[1;32mIn[1], line 1\u001b[0m\n\u001b[1;32m----> 1\u001b[0m \u001b[43membed_svg\u001b[49m(\u001b[38;5;124m\"\u001b[39m\u001b[38;5;124mProposta PPT/page 5.svg\u001b[39m\u001b[38;5;124m\"\u001b[39m,\u001b[38;5;124m\"\u001b[39m\u001b[38;5;124mimages/energy_cost_plot.svg\u001b[39m\u001b[38;5;124m\"\u001b[39m,\u001b[38;5;124m\"\u001b[39m\u001b[38;5;124manything.svg\u001b[39m\u001b[38;5;124m\"\u001b[39m,x\u001b[38;5;241m=\u001b[39m\u001b[38;5;241m100\u001b[39m,y\u001b[38;5;241m=\u001b[39m\u001b[38;5;241m90\u001b[39m, scale\u001b[38;5;241m=\u001b[39m \u001b[38;5;241m0.25\u001b[39m)\n",
      "\u001b[1;31mNameError\u001b[0m: name 'embed_svg' is not defined"
     ]
    }
   ],
   "source": [
    "embed_svg(\"Proposta PPT/page 5.svg\",\"images/energy_cost_plot.svg\",\"anything.svg\",x=100,y=90, scale= 0.25)"
   ]
  },
  {
   "cell_type": "code",
   "execution_count": 3,
   "metadata": {},
   "outputs": [
    {
     "name": "stdout",
     "output_type": "stream",
     "text": [
      "Stabilized parent <text> at x=-8.7839127, y=153.35587\n",
      "Stabilized parent <text> at x=-8.5707083, y=173.61604\n",
      "Stabilized parent <text> at x=226.92616, y=99.033501\n",
      "Warning: Element with ID 'tspan9' not found in SVG.\n",
      "Warning: Element with ID 'tspan10' not found in SVG.\n",
      "Embedded SVG saved as Temp_ppt/page5.svg\n",
      "Modified SVG saved to 'Temp_ppt/page5.svg'\n"
     ]
    }
   ],
   "source": [
    "from modules.pdf_builder import process_page5\n",
    "process_page5(50000.00,1000000.00, 0.28, 0.12)"
   ]
  },
  {
   "cell_type": "code",
   "execution_count": null,
   "metadata": {},
   "outputs": [],
   "source": []
  }
 ],
 "metadata": {
  "kernelspec": {
   "display_name": "Python 3",
   "language": "python",
   "name": "python3"
  },
  "language_info": {
   "codemirror_mode": {
    "name": "ipython",
    "version": 3
   },
   "file_extension": ".py",
   "mimetype": "text/x-python",
   "name": "python",
   "nbconvert_exporter": "python",
   "pygments_lexer": "ipython3",
   "version": "3.12.5"
  }
 },
 "nbformat": 4,
 "nbformat_minor": 2
}
