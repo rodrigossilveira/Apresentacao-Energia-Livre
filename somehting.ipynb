{
 "cells": [
  {
   "cell_type": "code",
   "execution_count": 2,
   "metadata": {},
   "outputs": [
    {
     "name": "stderr",
     "output_type": "stream",
     "text": [
      "2025-04-16 14:51:45.153 WARNING streamlit.runtime.caching.cache_data_api: No runtime found, using MemoryCacheStorageManager\n",
      "2025-04-16 14:51:45.156 WARNING streamlit.runtime.caching.cache_data_api: No runtime found, using MemoryCacheStorageManager\n",
      "2025-04-16 14:51:45.159 WARNING streamlit.runtime.caching.cache_data_api: No runtime found, using MemoryCacheStorageManager\n",
      "2025-04-16 14:51:45.161 WARNING streamlit.runtime.caching.cache_data_api: No runtime found, using MemoryCacheStorageManager\n"
     ]
    }
   ],
   "source": [
    "from modules.data_utils import *\n",
    "from modules.db_utils import *"
   ]
  },
  {
   "cell_type": "code",
   "execution_count": 14,
   "metadata": {},
   "outputs": [],
   "source": [
    "agente = \"Daniel Brognaro Penido\"\n",
    "\n",
    "# Connect to the SQLite database\n",
    "try:\n",
    "    with sqlite3.connect(\"DataBase.db\") as conn:\n",
    "        # Query the database for email and phone\n",
    "        query = \"\"\"\n",
    "        SELECT \"e-mail\", telefone \n",
    "        FROM Contatos_Agentes \n",
    "        WHERE agente = ?\n",
    "        \"\"\"\n",
    "        df = pd.read_sql_query(query, conn, params=(agente,))\n",
    "        \n",
    "        # Check if the query returned any rows\n",
    "        if df.empty:\n",
    "            print(f\"No results found for agent '{agente}' in the database.\")\n",
    "            \n",
    "        \n",
    "        # Extract email and phone from the first row\n",
    "        email = df.iloc[0][\"e-mail\"]\n",
    "        phone = df.iloc[0][\"telefone\"]\n",
    "        \n",
    "except sqlite3.Error as e:\n",
    "    print(f\"Database error: {e}\")\n",
    "except Exception as e:\n",
    "    print(f\"Unexpected error: {e}\")"
   ]
  },
  {
   "cell_type": "code",
   "execution_count": 15,
   "metadata": {},
   "outputs": [
    {
     "data": {
      "text/plain": [
       "'daniel.penido@cemig.com.br'"
      ]
     },
     "execution_count": 15,
     "metadata": {},
     "output_type": "execute_result"
    }
   ],
   "source": [
    "email"
   ]
  },
  {
   "cell_type": "code",
   "execution_count": 16,
   "metadata": {},
   "outputs": [
    {
     "data": {
      "text/plain": [
       "'(31)99647-6429'"
      ]
     },
     "execution_count": 16,
     "metadata": {},
     "output_type": "execute_result"
    }
   ],
   "source": [
    "phone"
   ]
  },
  {
   "cell_type": "code",
   "execution_count": null,
   "metadata": {},
   "outputs": [],
   "source": []
  }
 ],
 "metadata": {
  "kernelspec": {
   "display_name": "Python 3",
   "language": "python",
   "name": "python3"
  },
  "language_info": {
   "codemirror_mode": {
    "name": "ipython",
    "version": 3
   },
   "file_extension": ".py",
   "mimetype": "text/x-python",
   "name": "python",
   "nbconvert_exporter": "python",
   "pygments_lexer": "ipython3",
   "version": "3.12.5"
  }
 },
 "nbformat": 4,
 "nbformat_minor": 2
}
